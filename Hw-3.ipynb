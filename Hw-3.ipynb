{
 "cells": [
  {
   "cell_type": "markdown",
   "metadata": {},
   "source": [
    "1)\n",
    "Write a jupyter notebook to perform Bisection Search root finding.  Numerically find the two roots of the \n",
    "function:\n",
    "Use a tolerance of 1.0e-6 for the allowed deviation of f(x) from 0.\n",
    "\n",
    "2)  Given  your  starting  guesses  for  the  bracketing  values  around  the  roots,  how  many  iterations  does  your method take to converge?\n",
    "\n",
    "3) Have your notebook make a plot of f(x) vs. x as a line, and indicated with differently colored points your \n",
    "initial bracketing values and the roots.  In the plot, use limits of x=[0,3] and y=[-0.5, 2.1].  Add a horizontal line \n",
    "at z=0. Plot f(x) at a 1000 evenly spaced values of x=[0,3].\n",
    "\n",
    "4)  Create  an  issue  for  your  repository  and  tag  your  TA  using  “@zbriesem“  or  “@adwasser“.    For  instance, “Please   grade   my   homework,   @zbriesem.”.   CLEAR   ALL   THE   CELLS   BEFORE   YOU   COMMIT   THE \n",
    "NOTEBOOK.\n",
    "\n",
    "5)  Your  TA  will  clone  your  code  and  email  you  commented  version  of  the  code  and  a  grade.  To  get  the  full grade  possible,  all  the  notebooks  will  need  to  run  to  completion  without  errors  and  produce  the  requested plots.\n",
    "\n",
    "6) Call the repository “astr-119-hw-3” and the notebook “hw-3.ipynb”."
   ]
  },
  {
   "cell_type": "code",
   "execution_count": null,
   "metadata": {},
   "outputs": [],
   "source": [
    "%matplotlib inline\n",
    "import numpy as np\n",
    "import matplotlib.pyplot as plt"
   ]
  },
  {
   "cell_type": "markdown",
   "metadata": {},
   "source": [
    "## Define a function for which we'd like to find the roots"
   ]
  },
  {
   "cell_type": "code",
   "execution_count": null,
   "metadata": {},
   "outputs": [],
   "source": [
    "def function_for_roots(x):\n",
    "    a=1.01\n",
    "    b=-3.04\n",
    "    c=2.07\n",
    "    return a*x**2+b*x+c#get the roots of ax^2 +bx + c"
   ]
  },
  {
   "cell_type": "markdown",
   "metadata": {},
   "source": [
    "## We need a function to check whether our initial values are valid"
   ]
  },
  {
   "cell_type": "code",
   "execution_count": null,
   "metadata": {},
   "outputs": [],
   "source": [
    "def check_initial_values(f,x_min,x_max,tol):\n",
    "    #check our initial guesses\n",
    "    y_min=f(x_min)\n",
    "    y_max=f(x_max)\n",
    "    #check that x_min and x_max contain a zero crossing\n",
    "    if(y_min*y_max>=0.0):\n",
    "        print(\"No zero crossing found in the range = \",x_min,x_max)\n",
    "        s=\"f(%f) = %f, f(%f) = %f\"%(x_min,y_min,x_max,y_max)\n",
    "        print(s)\n",
    "        return 0\n",
    "    #if x_min is a root, then return flag == 1\n",
    "    if(np.fabs(y_min)<tol):\n",
    "        return 1\n",
    "    #if x_max is a root, then return flag == 2\n",
    "    if(np.fabs(y_max)<tol):\n",
    "        return 2\n",
    "    #if we reach this point, the bracket is valid\n",
    "    #and we will return 3\n",
    "    return 3"
   ]
  },
  {
   "cell_type": "markdown",
   "metadata": {},
   "source": [
    "## Now we will define the main work function that actually performs the iterative search"
   ]
  },
  {
   "cell_type": "code",
   "execution_count": null,
   "metadata": {},
   "outputs": [],
   "source": [
    "def bisection_root_finding(f,x_min_start,x_max_start,tol):\n",
    "    #this function uses bisection search to find a root\n",
    "    x_min=x_min_start#minimum x in bracket\n",
    "    x_max=x_max_start#maximum x in bracket\n",
    "    x_mid=0.0#mid point\n",
    "    y_min=f(x_min)#function value at x_min\n",
    "    y_max=f(x_max)#function value at x_max\n",
    "    y_mid=0.0#function value at mid point\n",
    "    imax=10000#set a maximum number of iterations\n",
    "    i=0#iteration counter\n",
    "    #check the initial values\n",
    "    flag=check_initial_values(f,x_min,x_max,tol)\n",
    "    if(flag==0):\n",
    "        print(\"Error in bisection_root_finding().\")\n",
    "        raise ValueError('Initial values invalid',x_min,x_max)\n",
    "    elif(flag==1):\n",
    "        #lucky guess\n",
    "        return x_min\n",
    "    elif(flag==2):\n",
    "        #another lucky guess\n",
    "        return x_max\n",
    "    #if we reach here, the we need to conduct the search\n",
    "    #set a flag\n",
    "    flag=1\n",
    "    #enter a while loop\n",
    "    while(flag):\n",
    "        x_mid=0.5*(x_min+x_max)#mid point\n",
    "        y_mid=f(x_mid)#function value at x_mid\n",
    "        #check if x_mid is a root\n",
    "        if(np.fabs(y_mid)<tol):\n",
    "            flag=0\n",
    "        else:\n",
    "            #x_mid is not a root\n",
    "            #if the product of the function at the midpoint\n",
    "            #and at one of the end points is greater than\n",
    "            #zero, replace this end point\n",
    "            if(f(x_min)*f(x_mid)>0):\n",
    "                #replace x_min with x_mid\n",
    "                x_min=x_mid\n",
    "            else:\n",
    "                #replace x_max with x_mid\n",
    "                x_max=x_mid\n",
    "        #print out the iteration\n",
    "        print(x_min,f(x_min),x_max,f(x_max))\n",
    "        #count the iteratin\n",
    "        i+=1\n",
    "        #if we have exceeded the max number\n",
    "        #of iterations, exit\n",
    "        if(i>=imax):\n",
    "            print(\"Exceeded max number of iterations = \",i)\n",
    "            s=\"Min bracket f(%f) = %f\"%(x_min,f(x_min))\n",
    "            print(s)\n",
    "            s=\"Max bracket f(%f) = %f\"%(x_max,f(x_max))\n",
    "            print(s)\n",
    "            s=\"Mid bracket f(%f) = %f\"%(x_mid,f(x_mid))\n",
    "            print(s)\n",
    "            raise StopIteration('Stopping iterations after ',i)\n",
    "    #we are done!\n",
    "    print('The numer of iterations required to find the root: ',i)\n",
    "    return x_mid"
   ]
  },
  {
   "cell_type": "markdown",
   "metadata": {},
   "source": [
    "## Perform the search"
   ]
  },
  {
   "cell_type": "code",
   "execution_count": null,
   "metadata": {},
   "outputs": [],
   "source": [
    "x_min=0.2\n",
    "x_max=1.7\n",
    "tolerance =1.0e-6\n",
    "#print the initial guess\n",
    "print(x_min,function_for_roots(x_min))\n",
    "print(x_max,function_for_roots(x_max))\n",
    "x_root=bisection_root_finding(function_for_roots,x_min,x_max,tolerance)\n",
    "y_root=function_for_roots(x_root)\n",
    "s=\"Root found with y(%f) = %f\"%(x_root,y_root)\n",
    "print(s)"
   ]
  },
  {
   "cell_type": "code",
   "execution_count": null,
   "metadata": {},
   "outputs": [],
   "source": [
    "xVals=np.linspace(0,3,1000)\n",
    "yVals=function_for_roots(xVals)\n",
    "def zeroFunc(x):#takes in  x and returns zero.\n",
    "    return 0*x#because I'm lazy and this seems the most conveninet way to instantiate an array of 1000 zeroes\n",
    "z=zeroFunc(xVals)"
   ]
  },
  {
   "cell_type": "code",
   "execution_count": null,
   "metadata": {},
   "outputs": [],
   "source": [
    "fig=plt.figure(figsize=(8,8))\n",
    "plt.plot(xVals,yVals,label=r'$y(x) = 1.01x^2-3.04x+2.07$')\n",
    "plt.plot(xVals,z,label=r'$y(x) = 0$')\n",
    "plt.plot(0.2,function_for_roots(0.2),'o',label=\"Upper Bracket\")#Plots Upper bracket as a point\n",
    "plt.plot(1.7, function_for_roots(1.7),'o', label=\"Lower Bracket\")#plots lower bracket as a point\n",
    "plt.plot(x_root,y_root,'o',label=\"Root\")#plots the root as a point\n",
    "plt.xlim([0,3])\n",
    "plt.ylim([-.5,2.1])\n",
    "plt.legend(loc=1,framealpha=.05)"
   ]
  },
  {
   "cell_type": "code",
   "execution_count": null,
   "metadata": {},
   "outputs": [],
   "source": []
  }
 ],
 "metadata": {
  "kernelspec": {
   "display_name": "Python 3",
   "language": "python",
   "name": "python3"
  },
  "language_info": {
   "codemirror_mode": {
    "name": "ipython",
    "version": 3
   },
   "file_extension": ".py",
   "mimetype": "text/x-python",
   "name": "python",
   "nbconvert_exporter": "python",
   "pygments_lexer": "ipython3",
   "version": "3.6.4"
  }
 },
 "nbformat": 4,
 "nbformat_minor": 2
}
